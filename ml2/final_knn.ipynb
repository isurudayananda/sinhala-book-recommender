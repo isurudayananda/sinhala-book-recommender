{
 "cells": [
  {
   "metadata": {
    "ExecuteTime": {
     "end_time": "2024-10-31T09:54:57.059207Z",
     "start_time": "2024-10-31T09:54:56.406939Z"
    }
   },
   "cell_type": "code",
   "source": [
    "import pandas as pd\n",
    "from sklearn.model_selection import train_test_split\n",
    "from sklearn.preprocessing import LabelEncoder\n",
    "from sklearn.neighbors import KNeighborsClassifier\n",
    "from sklearn.metrics import accuracy_score\n",
    "import matplotlib.pyplot as plt\n",
    "\n",
    "# Load the dataset\n",
    "data = pd.read_csv('dataset/data1.csv')  # Make sure this CSV file contains your data\n",
    "\n",
    "\n",
    "# Encode gender (Male: 0, Female: 1)\n",
    "data['gender'] = data['gender'].map({'Male': 0, 'Female': 1})\n",
    "\n",
    "# Select relevant features and target\n",
    "X = data[['age', 'gender']]  # Add more features if available\n",
    "y = data['isbn']\n",
    "\n",
    "# Split the data into training and testing sets\n",
    "X_train, X_test, y_train, y_test = train_test_split(X, y, test_size=0.2, random_state=42)\n",
    "\n",
    "# Initialize KNN classifier\n",
    "knn = KNeighborsClassifier(n_neighbors=5)\n",
    "\n",
    "# Fit the model\n",
    "knn.fit(X_train, y_train)\n",
    "\n",
    "# Predict on test data\n",
    "y_pred = knn.predict(X_test)\n",
    "\n",
    "# Calculate accuracy\n",
    "accuracy = accuracy_score(y_test, y_pred)\n",
    "print(\"Model Accuracy:\", accuracy)\n",
    "\n",
    "# Update the recommend_book function\n",
    "def recommend_book(age, gender):\n",
    "    gender_encoded = 0 if gender.lower() == 'male' else 1  # Encode gender\n",
    "    input_data = pd.DataFrame([[age, gender_encoded]], columns=['age', 'gender'])\n",
    "    predicted_isbn = knn.predict(input_data)\n",
    "    return predicted_isbn[0]\n",
    "\n",
    "# Example usage with multiple test cases\n",
    "test_cases = [(25, 'Male'), (30, 'Female'), (45, 'Female'), (60, 'Male')]\n",
    "for age, gender in test_cases:\n",
    "    recommended_isbn = recommend_book(age, gender)\n",
    "    print(f\"Recommended ISBN for Age {age} and Gender {gender}: {recommended_isbn}\")"
   ],
   "id": "b7ecbe017017f2e9",
   "outputs": [
    {
     "name": "stdout",
     "output_type": "stream",
     "text": [
      "Model Accuracy: 0.5182926829268293\n",
      "Recommended ISBN for Age 25 and Gender Male: 9789550000000\n",
      "Recommended ISBN for Age 30 and Gender Female: 9786250000000\n",
      "Recommended ISBN for Age 45 and Gender Female: 9786250000000\n",
      "Recommended ISBN for Age 60 and Gender Male: 9786250000000\n"
     ]
    }
   ],
   "execution_count": 33
  },
  {
   "metadata": {
    "ExecuteTime": {
     "end_time": "2024-10-31T09:55:01.089135Z",
     "start_time": "2024-10-31T09:55:01.083468Z"
    }
   },
   "cell_type": "code",
   "source": [
    "print(X_train.head())\n",
    "print(y_train.head())"
   ],
   "id": "df93e291577abc42",
   "outputs": [
    {
     "name": "stdout",
     "output_type": "stream",
     "text": [
      "     age  gender\n",
      "174   40       0\n",
      "244   31       0\n",
      "453   34       0\n",
      "356   32       0\n",
      "499   47       0\n",
      "174    9789550000000\n",
      "244    9789550000000\n",
      "453    9786250000000\n",
      "356    9789550000000\n",
      "499    9789550000000\n",
      "Name: isbn, dtype: int64\n"
     ]
    }
   ],
   "execution_count": 34
  },
  {
   "metadata": {
    "ExecuteTime": {
     "end_time": "2024-10-31T09:55:15.472142Z",
     "start_time": "2024-10-31T09:55:15.406746Z"
    }
   },
   "cell_type": "code",
   "source": [
    "from sklearn.model_selection import cross_val_score\n",
    "\n",
    "# Run cross-validation\n",
    "cv_scores = cross_val_score(knn, X, y, cv=5)  # Change cv for more folds if needed\n",
    "print(\"Cross-Validation Scores:\", cv_scores)\n",
    "print(\"Mean Cross-Validation Score:\", cv_scores.mean())"
   ],
   "id": "ac060596c6eb7879",
   "outputs": [
    {
     "name": "stdout",
     "output_type": "stream",
     "text": [
      "Cross-Validation Scores: [0.44512195 0.44512195 0.45731707 0.42073171 0.48780488]\n",
      "Mean Cross-Validation Score: 0.4512195121951219\n"
     ]
    },
    {
     "name": "stderr",
     "output_type": "stream",
     "text": [
      "C:\\Dev\\Python\\Lib\\site-packages\\sklearn\\model_selection\\_split.py:725: UserWarning: The least populated class in y has only 1 members, which is less than n_splits=5.\n",
      "  warnings.warn(\n"
     ]
    }
   ],
   "execution_count": 35
  },
  {
   "metadata": {
    "ExecuteTime": {
     "end_time": "2024-10-31T09:55:48.343895Z",
     "start_time": "2024-10-31T09:55:48.276110Z"
    }
   },
   "cell_type": "code",
   "source": [
    "import pandas as pd\n",
    "from sklearn.model_selection import train_test_split, cross_val_score\n",
    "from sklearn.preprocessing import LabelEncoder\n",
    "from sklearn.neighbors import KNeighborsClassifier\n",
    "from sklearn.metrics import accuracy_score\n",
    "\n",
    "# Load the dataset\n",
    "data = pd.read_csv('dataset/data1.csv')\n",
    "\n",
    "# Encode gender\n",
    "data['gender'] = data['gender'].map({'Male': 0, 'Female': 1})\n",
    "\n",
    "# Select features and target\n",
    "X = data[['age', 'gender']]\n",
    "y = data['isbn']\n",
    "\n",
    "# Split the dataset\n",
    "X_train, X_test, y_train, y_test = train_test_split(X, y, test_size=0.2, random_state=42)\n",
    "\n",
    "# Initialize KNN classifier\n",
    "knn = KNeighborsClassifier(n_neighbors=5)\n",
    "\n",
    "# Fit the model\n",
    "knn.fit(X_train, y_train)\n",
    "\n",
    "# Cross-validation\n",
    "cv_scores = cross_val_score(knn, X, y, cv=5)\n",
    "print(\"Cross-Validation Scores:\", cv_scores)\n",
    "print(\"Mean Cross-Validation Score:\", cv_scores.mean())\n",
    "\n",
    "# Predict and evaluate\n",
    "y_pred = knn.predict(X_test)\n",
    "accuracy = accuracy_score(y_test, y_pred)\n",
    "print(\"Model Accuracy:\", accuracy)\n",
    "\n",
    "# Recommendation function\n",
    "def recommend_book(age, gender):\n",
    "    gender_encoded = 0 if gender.lower() == 'male' else 1\n",
    "    input_data = pd.DataFrame([[age, gender_encoded]], columns=['age', 'gender'])\n",
    "    predicted_isbn = knn.predict(input_data)\n",
    "    return predicted_isbn[0]\n",
    "\n",
    "# Example usage\n",
    "test_cases = [(25, 'Male'), (30, 'Female'), (45, 'Female'), (60, 'Male')]\n",
    "for age, gender in test_cases:\n",
    "    recommended_isbn = recommend_book(age, gender)\n",
    "    print(f\"Recommended ISBN for Age {age} and Gender {gender}: {recommended_isbn}\")"
   ],
   "id": "236ac4ef142374a9",
   "outputs": [
    {
     "name": "stdout",
     "output_type": "stream",
     "text": [
      "Cross-Validation Scores: [0.44512195 0.44512195 0.45731707 0.42073171 0.48780488]\n",
      "Mean Cross-Validation Score: 0.4512195121951219\n",
      "Model Accuracy: 0.5182926829268293\n",
      "Recommended ISBN for Age 25 and Gender Male: 9789550000000\n",
      "Recommended ISBN for Age 30 and Gender Female: 9786250000000\n",
      "Recommended ISBN for Age 45 and Gender Female: 9786250000000\n",
      "Recommended ISBN for Age 60 and Gender Male: 9786250000000\n"
     ]
    },
    {
     "name": "stderr",
     "output_type": "stream",
     "text": [
      "C:\\Dev\\Python\\Lib\\site-packages\\sklearn\\model_selection\\_split.py:725: UserWarning: The least populated class in y has only 1 members, which is less than n_splits=5.\n",
      "  warnings.warn(\n"
     ]
    }
   ],
   "execution_count": 37
  },
  {
   "metadata": {},
   "cell_type": "code",
   "outputs": [],
   "execution_count": null,
   "source": "",
   "id": "3689a42878098d99"
  }
 ],
 "metadata": {
  "kernelspec": {
   "display_name": "Python 3",
   "language": "python",
   "name": "python3"
  },
  "language_info": {
   "codemirror_mode": {
    "name": "ipython",
    "version": 2
   },
   "file_extension": ".py",
   "mimetype": "text/x-python",
   "name": "python",
   "nbconvert_exporter": "python",
   "pygments_lexer": "ipython2",
   "version": "2.7.6"
  }
 },
 "nbformat": 4,
 "nbformat_minor": 5
}
